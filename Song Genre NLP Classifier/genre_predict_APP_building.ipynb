{
 "cells": [
  {
   "cell_type": "markdown",
   "metadata": {
    "id": "g_iTlTdx1CBf"
   },
   "source": [
    "#APP BUILDING:"
   ]
  },
  {
   "cell_type": "code",
   "execution_count": 1,
   "metadata": {
    "colab": {
     "base_uri": "https://localhost:8080/",
     "height": 1000
    },
    "id": "KIbtcttV7QPT",
    "outputId": "39d9c99e-03b0-491a-a0dc-b8a2048bf267"
   },
   "outputs": [
    {
     "name": "stdout",
     "output_type": "stream",
     "text": [
      "Requirement already satisfied: streamlit in /Users/yashsawant/opt/anaconda3/lib/python3.7/site-packages (0.79.0)\n",
      "Requirement already satisfied: pyarrow in /Users/yashsawant/opt/anaconda3/lib/python3.7/site-packages (from streamlit) (3.0.0)\n",
      "Requirement already satisfied: validators in /Users/yashsawant/opt/anaconda3/lib/python3.7/site-packages (from streamlit) (0.18.2)\n",
      "Requirement already satisfied: gitpython in /Users/yashsawant/opt/anaconda3/lib/python3.7/site-packages (from streamlit) (3.1.14)\n",
      "Requirement already satisfied: click>=7.0 in /Users/yashsawant/opt/anaconda3/lib/python3.7/site-packages (from streamlit) (7.0)\n",
      "Requirement already satisfied: cachetools>=4.0 in /Users/yashsawant/opt/anaconda3/lib/python3.7/site-packages (from streamlit) (4.1.1)\n",
      "Requirement already satisfied: protobuf!=3.11,>=3.6.0 in /Users/yashsawant/opt/anaconda3/lib/python3.7/site-packages (from streamlit) (3.13.0)\n",
      "Requirement already satisfied: toml in /Users/yashsawant/opt/anaconda3/lib/python3.7/site-packages (from streamlit) (0.10.2)\n",
      "Requirement already satisfied: base58 in /Users/yashsawant/opt/anaconda3/lib/python3.7/site-packages (from streamlit) (2.1.0)\n",
      "Requirement already satisfied: packaging in /Users/yashsawant/opt/anaconda3/lib/python3.7/site-packages (from streamlit) (19.2)\n",
      "Requirement already satisfied: pandas>=0.21.0 in /Users/yashsawant/opt/anaconda3/lib/python3.7/site-packages (from streamlit) (0.25.1)\n",
      "Requirement already satisfied: pillow>=6.2.0 in /Users/yashsawant/opt/anaconda3/lib/python3.7/site-packages (from streamlit) (6.2.0)\n",
      "Requirement already satisfied: requests in /Users/yashsawant/opt/anaconda3/lib/python3.7/site-packages (from streamlit) (2.22.0)\n",
      "Requirement already satisfied: altair>=3.2.0 in /Users/yashsawant/opt/anaconda3/lib/python3.7/site-packages (from streamlit) (4.1.0)\n",
      "Requirement already satisfied: tornado>=5.0 in /Users/yashsawant/opt/anaconda3/lib/python3.7/site-packages (from streamlit) (6.0.3)\n",
      "Requirement already satisfied: pydeck>=0.1.dev5 in /Users/yashsawant/opt/anaconda3/lib/python3.7/site-packages (from streamlit) (0.6.1)\n",
      "Requirement already satisfied: blinker in /Users/yashsawant/opt/anaconda3/lib/python3.7/site-packages (from streamlit) (1.4)\n",
      "Requirement already satisfied: numpy in /Users/yashsawant/opt/anaconda3/lib/python3.7/site-packages (from streamlit) (1.17.2)\n",
      "Requirement already satisfied: python-dateutil in /Users/yashsawant/opt/anaconda3/lib/python3.7/site-packages (from streamlit) (2.8.0)\n",
      "Requirement already satisfied: tzlocal in /Users/yashsawant/opt/anaconda3/lib/python3.7/site-packages (from streamlit) (2.1)\n",
      "Requirement already satisfied: astor in /Users/yashsawant/opt/anaconda3/lib/python3.7/site-packages (from streamlit) (0.8.1)\n",
      "Requirement already satisfied: jinja2 in /Users/yashsawant/opt/anaconda3/lib/python3.7/site-packages (from altair>=3.2.0->streamlit) (2.10.3)\n",
      "Requirement already satisfied: toolz in /Users/yashsawant/opt/anaconda3/lib/python3.7/site-packages (from altair>=3.2.0->streamlit) (0.10.0)\n",
      "Requirement already satisfied: jsonschema in /Users/yashsawant/opt/anaconda3/lib/python3.7/site-packages (from altair>=3.2.0->streamlit) (3.0.2)\n",
      "Requirement already satisfied: numpy in /Users/yashsawant/opt/anaconda3/lib/python3.7/site-packages (from streamlit) (1.17.2)\n",
      "Requirement already satisfied: pandas>=0.21.0 in /Users/yashsawant/opt/anaconda3/lib/python3.7/site-packages (from streamlit) (0.25.1)\n",
      "Requirement already satisfied: entrypoints in /Users/yashsawant/opt/anaconda3/lib/python3.7/site-packages (from altair>=3.2.0->streamlit) (0.3)\n",
      "Requirement already satisfied: gitdb<5,>=4.0.1 in /Users/yashsawant/opt/anaconda3/lib/python3.7/site-packages (from gitpython->streamlit) (4.0.7)\n",
      "Requirement already satisfied: smmap<5,>=3.0.1 in /Users/yashsawant/opt/anaconda3/lib/python3.7/site-packages (from gitdb<5,>=4.0.1->gitpython->streamlit) (4.0.0)\n",
      "Requirement already satisfied: MarkupSafe>=0.23 in /Users/yashsawant/opt/anaconda3/lib/python3.7/site-packages (from jinja2->altair>=3.2.0->streamlit) (1.1.1)\n",
      "Requirement already satisfied: pyrsistent>=0.14.0 in /Users/yashsawant/opt/anaconda3/lib/python3.7/site-packages (from jsonschema->altair>=3.2.0->streamlit) (0.15.4)\n",
      "Requirement already satisfied: setuptools in /Users/yashsawant/opt/anaconda3/lib/python3.7/site-packages (from jsonschema->altair>=3.2.0->streamlit) (41.4.0)\n",
      "Requirement already satisfied: attrs>=17.4.0 in /Users/yashsawant/opt/anaconda3/lib/python3.7/site-packages (from jsonschema->altair>=3.2.0->streamlit) (19.2.0)\n",
      "Requirement already satisfied: six>=1.11.0 in /Users/yashsawant/opt/anaconda3/lib/python3.7/site-packages (from jsonschema->altair>=3.2.0->streamlit) (1.12.0)\n",
      "Requirement already satisfied: six>=1.11.0 in /Users/yashsawant/opt/anaconda3/lib/python3.7/site-packages (from jsonschema->altair>=3.2.0->streamlit) (1.12.0)\n",
      "Requirement already satisfied: pyparsing>=2.0.2 in /Users/yashsawant/opt/anaconda3/lib/python3.7/site-packages (from packaging->streamlit) (2.4.2)\n",
      "Requirement already satisfied: python-dateutil in /Users/yashsawant/opt/anaconda3/lib/python3.7/site-packages (from streamlit) (2.8.0)\n",
      "Requirement already satisfied: pytz>=2017.2 in /Users/yashsawant/opt/anaconda3/lib/python3.7/site-packages (from pandas>=0.21.0->streamlit) (2019.3)\n",
      "Requirement already satisfied: numpy in /Users/yashsawant/opt/anaconda3/lib/python3.7/site-packages (from streamlit) (1.17.2)\n",
      "Requirement already satisfied: setuptools in /Users/yashsawant/opt/anaconda3/lib/python3.7/site-packages (from jsonschema->altair>=3.2.0->streamlit) (41.4.0)\n",
      "Requirement already satisfied: six>=1.11.0 in /Users/yashsawant/opt/anaconda3/lib/python3.7/site-packages (from jsonschema->altair>=3.2.0->streamlit) (1.12.0)\n",
      "Requirement already satisfied: numpy in /Users/yashsawant/opt/anaconda3/lib/python3.7/site-packages (from streamlit) (1.17.2)\n",
      "Requirement already satisfied: jinja2 in /Users/yashsawant/opt/anaconda3/lib/python3.7/site-packages (from altair>=3.2.0->streamlit) (2.10.3)\n",
      "Requirement already satisfied: traitlets>=4.3.2 in /Users/yashsawant/opt/anaconda3/lib/python3.7/site-packages (from pydeck>=0.1.dev5->streamlit) (4.3.3)\n",
      "Requirement already satisfied: numpy in /Users/yashsawant/opt/anaconda3/lib/python3.7/site-packages (from streamlit) (1.17.2)\n",
      "Requirement already satisfied: ipywidgets>=7.0.0 in /Users/yashsawant/opt/anaconda3/lib/python3.7/site-packages (from pydeck>=0.1.dev5->streamlit) (7.5.1)\n",
      "Requirement already satisfied: ipykernel>=5.1.2 in /Users/yashsawant/opt/anaconda3/lib/python3.7/site-packages (from pydeck>=0.1.dev5->streamlit) (5.1.2)\n",
      "Requirement already satisfied: traitlets>=4.3.2 in /Users/yashsawant/opt/anaconda3/lib/python3.7/site-packages (from pydeck>=0.1.dev5->streamlit) (4.3.3)\n",
      "Requirement already satisfied: tornado>=5.0 in /Users/yashsawant/opt/anaconda3/lib/python3.7/site-packages (from streamlit) (6.0.3)\n",
      "Requirement already satisfied: ipython>=5.0.0 in /Users/yashsawant/opt/anaconda3/lib/python3.7/site-packages (from ipykernel>=5.1.2->pydeck>=0.1.dev5->streamlit) (7.8.0)\n",
      "Requirement already satisfied: jupyter-client in /Users/yashsawant/opt/anaconda3/lib/python3.7/site-packages (from ipykernel>=5.1.2->pydeck>=0.1.dev5->streamlit) (5.3.3)\n",
      "Requirement already satisfied: jedi>=0.10 in /Users/yashsawant/opt/anaconda3/lib/python3.7/site-packages (from ipython>=5.0.0->ipykernel>=5.1.2->pydeck>=0.1.dev5->streamlit) (0.15.1)\n",
      "Requirement already satisfied: appnope in /Users/yashsawant/opt/anaconda3/lib/python3.7/site-packages (from ipython>=5.0.0->ipykernel>=5.1.2->pydeck>=0.1.dev5->streamlit) (0.1.0)\n",
      "Requirement already satisfied: backcall in /Users/yashsawant/opt/anaconda3/lib/python3.7/site-packages (from ipython>=5.0.0->ipykernel>=5.1.2->pydeck>=0.1.dev5->streamlit) (0.1.0)\n",
      "Requirement already satisfied: decorator in /Users/yashsawant/opt/anaconda3/lib/python3.7/site-packages (from ipython>=5.0.0->ipykernel>=5.1.2->pydeck>=0.1.dev5->streamlit) (4.4.0)\n",
      "Requirement already satisfied: traitlets>=4.3.2 in /Users/yashsawant/opt/anaconda3/lib/python3.7/site-packages (from pydeck>=0.1.dev5->streamlit) (4.3.3)\n",
      "Requirement already satisfied: prompt-toolkit<2.1.0,>=2.0.0 in /Users/yashsawant/opt/anaconda3/lib/python3.7/site-packages (from ipython>=5.0.0->ipykernel>=5.1.2->pydeck>=0.1.dev5->streamlit) (2.0.10)\n",
      "Requirement already satisfied: pickleshare in /Users/yashsawant/opt/anaconda3/lib/python3.7/site-packages (from ipython>=5.0.0->ipykernel>=5.1.2->pydeck>=0.1.dev5->streamlit) (0.7.5)\n",
      "Requirement already satisfied: pexpect in /Users/yashsawant/opt/anaconda3/lib/python3.7/site-packages (from ipython>=5.0.0->ipykernel>=5.1.2->pydeck>=0.1.dev5->streamlit) (4.7.0)\n",
      "Requirement already satisfied: pygments in /Users/yashsawant/opt/anaconda3/lib/python3.7/site-packages (from ipython>=5.0.0->ipykernel>=5.1.2->pydeck>=0.1.dev5->streamlit) (2.4.2)\n",
      "Requirement already satisfied: setuptools in /Users/yashsawant/opt/anaconda3/lib/python3.7/site-packages (from jsonschema->altair>=3.2.0->streamlit) (41.4.0)\n"
     ]
    },
    {
     "name": "stdout",
     "output_type": "stream",
     "text": [
      "Requirement already satisfied: traitlets>=4.3.2 in /Users/yashsawant/opt/anaconda3/lib/python3.7/site-packages (from pydeck>=0.1.dev5->streamlit) (4.3.3)\n",
      "Requirement already satisfied: ipython>=5.0.0 in /Users/yashsawant/opt/anaconda3/lib/python3.7/site-packages (from ipykernel>=5.1.2->pydeck>=0.1.dev5->streamlit) (7.8.0)\n",
      "Requirement already satisfied: ipykernel>=5.1.2 in /Users/yashsawant/opt/anaconda3/lib/python3.7/site-packages (from pydeck>=0.1.dev5->streamlit) (5.1.2)\n",
      "Requirement already satisfied: widgetsnbextension~=3.5.0 in /Users/yashsawant/opt/anaconda3/lib/python3.7/site-packages (from ipywidgets>=7.0.0->pydeck>=0.1.dev5->streamlit) (3.5.1)\n",
      "Requirement already satisfied: nbformat>=4.2.0 in /Users/yashsawant/opt/anaconda3/lib/python3.7/site-packages (from ipywidgets>=7.0.0->pydeck>=0.1.dev5->streamlit) (4.4.0)\n",
      "Requirement already satisfied: parso>=0.5.0 in /Users/yashsawant/opt/anaconda3/lib/python3.7/site-packages (from jedi>=0.10->ipython>=5.0.0->ipykernel>=5.1.2->pydeck>=0.1.dev5->streamlit) (0.5.1)\n",
      "Requirement already satisfied: tornado>=5.0 in /Users/yashsawant/opt/anaconda3/lib/python3.7/site-packages (from streamlit) (6.0.3)\n",
      "Requirement already satisfied: jupyter-core in /Users/yashsawant/opt/anaconda3/lib/python3.7/site-packages (from jupyter-client->ipykernel>=5.1.2->pydeck>=0.1.dev5->streamlit) (4.5.0)\n",
      "Requirement already satisfied: traitlets>=4.3.2 in /Users/yashsawant/opt/anaconda3/lib/python3.7/site-packages (from pydeck>=0.1.dev5->streamlit) (4.3.3)\n",
      "Requirement already satisfied: python-dateutil in /Users/yashsawant/opt/anaconda3/lib/python3.7/site-packages (from streamlit) (2.8.0)\n",
      "Requirement already satisfied: pyzmq>=13 in /Users/yashsawant/opt/anaconda3/lib/python3.7/site-packages (from jupyter-client->ipykernel>=5.1.2->pydeck>=0.1.dev5->streamlit) (18.1.0)\n",
      "Requirement already satisfied: traitlets>=4.3.2 in /Users/yashsawant/opt/anaconda3/lib/python3.7/site-packages (from pydeck>=0.1.dev5->streamlit) (4.3.3)\n",
      "Requirement already satisfied: traitlets>=4.3.2 in /Users/yashsawant/opt/anaconda3/lib/python3.7/site-packages (from pydeck>=0.1.dev5->streamlit) (4.3.3)\n",
      "Requirement already satisfied: ipython-genutils in /Users/yashsawant/opt/anaconda3/lib/python3.7/site-packages (from nbformat>=4.2.0->ipywidgets>=7.0.0->pydeck>=0.1.dev5->streamlit) (0.2.0)\n",
      "Requirement already satisfied: jupyter-core in /Users/yashsawant/opt/anaconda3/lib/python3.7/site-packages (from jupyter-client->ipykernel>=5.1.2->pydeck>=0.1.dev5->streamlit) (4.5.0)\n",
      "Requirement already satisfied: jsonschema in /Users/yashsawant/opt/anaconda3/lib/python3.7/site-packages (from altair>=3.2.0->streamlit) (3.0.2)\n",
      "Requirement already satisfied: ptyprocess>=0.5 in /Users/yashsawant/opt/anaconda3/lib/python3.7/site-packages (from pexpect->ipython>=5.0.0->ipykernel>=5.1.2->pydeck>=0.1.dev5->streamlit) (0.6.0)\n",
      "Requirement already satisfied: wcwidth in /Users/yashsawant/opt/anaconda3/lib/python3.7/site-packages (from prompt-toolkit<2.1.0,>=2.0.0->ipython>=5.0.0->ipykernel>=5.1.2->pydeck>=0.1.dev5->streamlit) (0.1.7)\n",
      "Requirement already satisfied: six>=1.11.0 in /Users/yashsawant/opt/anaconda3/lib/python3.7/site-packages (from jsonschema->altair>=3.2.0->streamlit) (1.12.0)\n",
      "Requirement already satisfied: six>=1.11.0 in /Users/yashsawant/opt/anaconda3/lib/python3.7/site-packages (from jsonschema->altair>=3.2.0->streamlit) (1.12.0)\n",
      "Requirement already satisfied: six>=1.11.0 in /Users/yashsawant/opt/anaconda3/lib/python3.7/site-packages (from jsonschema->altair>=3.2.0->streamlit) (1.12.0)\n",
      "Requirement already satisfied: urllib3!=1.25.0,!=1.25.1,<1.26,>=1.21.1 in /Users/yashsawant/opt/anaconda3/lib/python3.7/site-packages (from requests->streamlit) (1.24.2)\n",
      "Requirement already satisfied: idna<2.9,>=2.5 in /Users/yashsawant/opt/anaconda3/lib/python3.7/site-packages (from requests->streamlit) (2.8)\n",
      "Requirement already satisfied: chardet<3.1.0,>=3.0.2 in /Users/yashsawant/opt/anaconda3/lib/python3.7/site-packages (from requests->streamlit) (3.0.4)\n",
      "Requirement already satisfied: certifi>=2017.4.17 in /Users/yashsawant/opt/anaconda3/lib/python3.7/site-packages (from requests->streamlit) (2019.9.11)\n",
      "Requirement already satisfied: six>=1.11.0 in /Users/yashsawant/opt/anaconda3/lib/python3.7/site-packages (from jsonschema->altair>=3.2.0->streamlit) (1.12.0)\n",
      "Requirement already satisfied: ipython-genutils in /Users/yashsawant/opt/anaconda3/lib/python3.7/site-packages (from nbformat>=4.2.0->ipywidgets>=7.0.0->pydeck>=0.1.dev5->streamlit) (0.2.0)\n",
      "Requirement already satisfied: decorator in /Users/yashsawant/opt/anaconda3/lib/python3.7/site-packages (from ipython>=5.0.0->ipykernel>=5.1.2->pydeck>=0.1.dev5->streamlit) (4.4.0)\n",
      "Requirement already satisfied: pytz>=2017.2 in /Users/yashsawant/opt/anaconda3/lib/python3.7/site-packages (from pandas>=0.21.0->streamlit) (2019.3)\n",
      "Requirement already satisfied: six>=1.11.0 in /Users/yashsawant/opt/anaconda3/lib/python3.7/site-packages (from jsonschema->altair>=3.2.0->streamlit) (1.12.0)\n",
      "Requirement already satisfied: decorator in /Users/yashsawant/opt/anaconda3/lib/python3.7/site-packages (from ipython>=5.0.0->ipykernel>=5.1.2->pydeck>=0.1.dev5->streamlit) (4.4.0)\n",
      "Requirement already satisfied: notebook>=4.4.1 in /Users/yashsawant/opt/anaconda3/lib/python3.7/site-packages (from widgetsnbextension~=3.5.0->ipywidgets>=7.0.0->pydeck>=0.1.dev5->streamlit) (6.0.1)\n",
      "Requirement already satisfied: terminado>=0.8.1 in /Users/yashsawant/opt/anaconda3/lib/python3.7/site-packages (from notebook>=4.4.1->widgetsnbextension~=3.5.0->ipywidgets>=7.0.0->pydeck>=0.1.dev5->streamlit) (0.8.2)\n",
      "Requirement already satisfied: jinja2 in /Users/yashsawant/opt/anaconda3/lib/python3.7/site-packages (from altair>=3.2.0->streamlit) (2.10.3)\n",
      "Requirement already satisfied: jupyter-core in /Users/yashsawant/opt/anaconda3/lib/python3.7/site-packages (from jupyter-client->ipykernel>=5.1.2->pydeck>=0.1.dev5->streamlit) (4.5.0)\n",
      "Requirement already satisfied: nbconvert in /Users/yashsawant/opt/anaconda3/lib/python3.7/site-packages (from notebook>=4.4.1->widgetsnbextension~=3.5.0->ipywidgets>=7.0.0->pydeck>=0.1.dev5->streamlit) (5.6.0)\n",
      "Requirement already satisfied: ipykernel>=5.1.2 in /Users/yashsawant/opt/anaconda3/lib/python3.7/site-packages (from pydeck>=0.1.dev5->streamlit) (5.1.2)\n",
      "Requirement already satisfied: ipython-genutils in /Users/yashsawant/opt/anaconda3/lib/python3.7/site-packages (from nbformat>=4.2.0->ipywidgets>=7.0.0->pydeck>=0.1.dev5->streamlit) (0.2.0)\n",
      "Requirement already satisfied: pyzmq>=13 in /Users/yashsawant/opt/anaconda3/lib/python3.7/site-packages (from jupyter-client->ipykernel>=5.1.2->pydeck>=0.1.dev5->streamlit) (18.1.0)\n",
      "Requirement already satisfied: traitlets>=4.3.2 in /Users/yashsawant/opt/anaconda3/lib/python3.7/site-packages (from pydeck>=0.1.dev5->streamlit) (4.3.3)\n",
      "Requirement already satisfied: Send2Trash in /Users/yashsawant/opt/anaconda3/lib/python3.7/site-packages (from notebook>=4.4.1->widgetsnbextension~=3.5.0->ipywidgets>=7.0.0->pydeck>=0.1.dev5->streamlit) (1.5.0)\n",
      "Requirement already satisfied: nbformat>=4.2.0 in /Users/yashsawant/opt/anaconda3/lib/python3.7/site-packages (from ipywidgets>=7.0.0->pydeck>=0.1.dev5->streamlit) (4.4.0)\n",
      "Requirement already satisfied: prometheus-client in /Users/yashsawant/opt/anaconda3/lib/python3.7/site-packages (from notebook>=4.4.1->widgetsnbextension~=3.5.0->ipywidgets>=7.0.0->pydeck>=0.1.dev5->streamlit) (0.7.1)\n",
      "Requirement already satisfied: tornado>=5.0 in /Users/yashsawant/opt/anaconda3/lib/python3.7/site-packages (from streamlit) (6.0.3)\n",
      "Requirement already satisfied: jupyter-client in /Users/yashsawant/opt/anaconda3/lib/python3.7/site-packages (from ipykernel>=5.1.2->pydeck>=0.1.dev5->streamlit) (5.3.3)\n",
      "Requirement already satisfied: mistune<2,>=0.8.1 in /Users/yashsawant/opt/anaconda3/lib/python3.7/site-packages (from nbconvert->notebook>=4.4.1->widgetsnbextension~=3.5.0->ipywidgets>=7.0.0->pydeck>=0.1.dev5->streamlit) (0.8.4)\n",
      "Requirement already satisfied: defusedxml in /Users/yashsawant/opt/anaconda3/lib/python3.7/site-packages (from nbconvert->notebook>=4.4.1->widgetsnbextension~=3.5.0->ipywidgets>=7.0.0->pydeck>=0.1.dev5->streamlit) (0.6.0)\n",
      "Requirement already satisfied: jupyter-core in /Users/yashsawant/opt/anaconda3/lib/python3.7/site-packages (from jupyter-client->ipykernel>=5.1.2->pydeck>=0.1.dev5->streamlit) (4.5.0)\n",
      "Requirement already satisfied: pandocfilters>=1.4.1 in /Users/yashsawant/opt/anaconda3/lib/python3.7/site-packages (from nbconvert->notebook>=4.4.1->widgetsnbextension~=3.5.0->ipywidgets>=7.0.0->pydeck>=0.1.dev5->streamlit) (1.4.2)\n",
      "Requirement already satisfied: entrypoints in /Users/yashsawant/opt/anaconda3/lib/python3.7/site-packages (from altair>=3.2.0->streamlit) (0.3)\n",
      "Requirement already satisfied: traitlets>=4.3.2 in /Users/yashsawant/opt/anaconda3/lib/python3.7/site-packages (from pydeck>=0.1.dev5->streamlit) (4.3.3)\n",
      "Requirement already satisfied: testpath in /Users/yashsawant/opt/anaconda3/lib/python3.7/site-packages (from nbconvert->notebook>=4.4.1->widgetsnbextension~=3.5.0->ipywidgets>=7.0.0->pydeck>=0.1.dev5->streamlit) (0.4.2)\n",
      "Requirement already satisfied: pygments in /Users/yashsawant/opt/anaconda3/lib/python3.7/site-packages (from ipython>=5.0.0->ipykernel>=5.1.2->pydeck>=0.1.dev5->streamlit) (2.4.2)\n",
      "Requirement already satisfied: bleach in /Users/yashsawant/opt/anaconda3/lib/python3.7/site-packages (from nbconvert->notebook>=4.4.1->widgetsnbextension~=3.5.0->ipywidgets>=7.0.0->pydeck>=0.1.dev5->streamlit) (3.1.0)\n",
      "Requirement already satisfied: nbformat>=4.2.0 in /Users/yashsawant/opt/anaconda3/lib/python3.7/site-packages (from ipywidgets>=7.0.0->pydeck>=0.1.dev5->streamlit) (4.4.0)\n",
      "Requirement already satisfied: jinja2 in /Users/yashsawant/opt/anaconda3/lib/python3.7/site-packages (from altair>=3.2.0->streamlit) (2.10.3)\n"
     ]
    },
    {
     "name": "stdout",
     "output_type": "stream",
     "text": [
      "Requirement already satisfied: six>=1.11.0 in /Users/yashsawant/opt/anaconda3/lib/python3.7/site-packages (from jsonschema->altair>=3.2.0->streamlit) (1.12.0)\n",
      "Requirement already satisfied: webencodings in /Users/yashsawant/opt/anaconda3/lib/python3.7/site-packages (from bleach->nbconvert->notebook>=4.4.1->widgetsnbextension~=3.5.0->ipywidgets>=7.0.0->pydeck>=0.1.dev5->streamlit) (0.5.1)\n",
      "\u001b[33mWARNING: You are using pip version 20.3.1; however, version 21.0.1 is available.\n",
      "You should consider upgrading via the '/Users/yashsawant/opt/anaconda3/bin/python -m pip install --upgrade pip' command.\u001b[0m\n"
     ]
    }
   ],
   "source": [
    "!pip install streamlit"
   ]
  },
  {
   "cell_type": "code",
   "execution_count": 2,
   "metadata": {
    "colab": {
     "base_uri": "https://localhost:8080/"
    },
    "id": "mIsmIRd41VXC",
    "outputId": "ee94870c-5cd0-4c2b-848c-0eeb9bc23074"
   },
   "outputs": [
    {
     "name": "stdout",
     "output_type": "stream",
     "text": [
      "Collecting pyngrok==4.1.1\n",
      "  Downloading pyngrok-4.1.1.tar.gz (18 kB)\n",
      "Requirement already satisfied: future in /Users/yashsawant/opt/anaconda3/lib/python3.7/site-packages (from pyngrok==4.1.1) (0.18.2)\n",
      "Requirement already satisfied: PyYAML in /Users/yashsawant/opt/anaconda3/lib/python3.7/site-packages (from pyngrok==4.1.1) (5.1.2)\n",
      "Building wheels for collected packages: pyngrok\n",
      "  Building wheel for pyngrok (setup.py) ... \u001b[?25ldone\n",
      "\u001b[?25h  Created wheel for pyngrok: filename=pyngrok-4.1.1-py3-none-any.whl size=15969 sha256=2aead2a33b55303937a7b45f2fdf6c6394c13025de94554de139dcf17b154967\n",
      "  Stored in directory: /Users/yashsawant/Library/Caches/pip/wheels/b1/d9/12/045a042fee3127dc40ba6f5df2798aa2df38c414bf533ca765\n",
      "Successfully built pyngrok\n",
      "Installing collected packages: pyngrok\n",
      "Successfully installed pyngrok-4.1.1\n",
      "\u001b[33mWARNING: You are using pip version 20.3.1; however, version 21.0.1 is available.\n",
      "You should consider upgrading via the '/Users/yashsawant/opt/anaconda3/bin/python -m pip install --upgrade pip' command.\u001b[0m\n"
     ]
    }
   ],
   "source": [
    "!pip install pyngrok==4.1.1"
   ]
  },
  {
   "cell_type": "code",
   "execution_count": 3,
   "metadata": {
    "colab": {
     "base_uri": "https://localhost:8080/"
    },
    "id": "88BiSSOw1YWs",
    "outputId": "b547839f-12e0-4fa7-adcf-685f5f3171ec"
   },
   "outputs": [
    {
     "name": "stdout",
     "output_type": "stream",
     "text": [
      "\u001b[33mWARNING: You are using pip version 20.3.1; however, version 21.0.1 is available.\r\n",
      "You should consider upgrading via the '/Users/yashsawant/opt/anaconda3/bin/python -m pip install --upgrade pip' command.\u001b[0m\r\n"
     ]
    }
   ],
   "source": [
    "!pip install swachhdata -q"
   ]
  },
  {
   "cell_type": "code",
   "execution_count": 4,
   "metadata": {
    "id": "6PLTsJ9X1bFi"
   },
   "outputs": [],
   "source": [
    "from pyngrok import ngrok"
   ]
  },
  {
   "cell_type": "code",
   "execution_count": 7,
   "metadata": {
    "colab": {
     "base_uri": "https://localhost:8080/"
    },
    "id": "IgicGZURKmjV",
    "outputId": "a4e6a972-67d3-4364-bcb8-185fe3d16b83"
   },
   "outputs": [
    {
     "name": "stdout",
     "output_type": "stream",
     "text": [
      "[nltk_data] Downloading package stopwords to /root/nltk_data...\n",
      "[nltk_data]   Unzipping corpora/stopwords.zip.\n"
     ]
    },
    {
     "data": {
      "text/plain": [
       "True"
      ]
     },
     "execution_count": 7,
     "metadata": {
      "tags": []
     },
     "output_type": "execute_result"
    }
   ],
   "source": [
    "import nltk\n",
    "nltk.download('stopwords')"
   ]
  },
  {
   "cell_type": "code",
   "execution_count": 8,
   "metadata": {
    "id": "At-xSvKqJTrS"
   },
   "outputs": [],
   "source": [
    "from sklearn.naive_bayes import MultinomialNB\n",
    "from sklearn.pipeline import Pipeline\n",
    "from nltk import word_tokenize\n",
    "from nltk.stem import WordNetLemmatizer\n",
    "from sklearn.utils import shuffle\n",
    "from nltk.corpus import stopwords\n",
    "import pickle\n",
    "\n",
    "stop = list(set(stopwords.words('english'))) # stopwords\n",
    "wnl = WordNetLemmatizer() # lemmatizer\n",
    "\n",
    "def tokenizer(x): # custom tokenizer\n",
    "    return (\n",
    "        wnl.lemmatize(w) \n",
    "        for w in word_tokenize(x) \n",
    "        if len(w) > 2 and w.isalnum() # only words that are > 2 characters\n",
    "    ) "
   ]
  },
  {
   "cell_type": "code",
   "execution_count": 9,
   "metadata": {
    "colab": {
     "base_uri": "https://localhost:8080/"
    },
    "id": "8NaAkp6F1mFN",
    "outputId": "af8f14f5-db92-4e6a-a2a4-b5b7ba7100da"
   },
   "outputs": [
    {
     "name": "stdout",
     "output_type": "stream",
     "text": [
      "Writing app.py\n"
     ]
    }
   ],
   "source": [
    "%%writefile app.py\n",
    "import streamlit as st\n",
    "import pandas as pd\n",
    "import numpy as np\n",
    "from keras.models import load_model\n",
    "from tensorflow.keras.preprocessing.text import Tokenizer\n",
    "from sklearn.externals import joblib\n",
    "from tensorflow.keras.preprocessing.sequence import pad_sequences\n",
    "from swachhdata.text import *\n",
    "\n",
    "lr_model = open('/Users/yashsawant/Downloads/genrepredict.pkl','rb')\n",
    "model = joblib.load(lr_model)\n",
    "\n",
    "PAGE_CONFIG = {\"page_title\":\"Hotel review analysis\",\"page_icon\":\":smiley:\",\"layout\":\"centered\"}\n",
    "st.set_page_config(**PAGE_CONFIG)\n",
    "\n",
    "def main():\n",
    "   \n",
    "    st.title(\"Genre Classifier Using Song Lyrics\")\n",
    "    html_temp = \"\"\"\n",
    "    <div style=\"background-color:tomato;padding:10px\">\n",
    "    <h2 style=\"color:white;text-align:center;\">Song Prediction ML APP </h2>\n",
    "    </div>\n",
    "    \"\"\"\n",
    "    st.markdown(html_temp,unsafe_allow_html=True)\n",
    "    text = st.text_input(\"Enter Lyrics\")\n",
    "    \n",
    "    result=\"\"\n",
    "    if st.button(\"Predict\"):\n",
    "        result=classifier.predict([text])\n",
    "        st.write(result)\n",
    " \n",
    "if __name__=='__main__':\n",
    "    main()"
   ]
  },
  {
   "cell_type": "code",
   "execution_count": 10,
   "metadata": {
    "id": "TUqS0dKQ7Uzg"
   },
   "outputs": [],
   "source": [
    "!streamlit run app.py &>/dev/null&"
   ]
  },
  {
   "cell_type": "code",
   "execution_count": 11,
   "metadata": {
    "colab": {
     "base_uri": "https://localhost:8080/",
     "height": 37
    },
    "id": "W7tbYhNC8PVQ",
    "outputId": "1687ab60-1211-41f3-c35c-8f1d33d047fb"
   },
   "outputs": [
    {
     "name": "stdout",
     "output_type": "stream",
     "text": []
    },
    {
     "data": {
      "application/vnd.google.colaboratory.intrinsic+json": {
       "type": "string"
      },
      "text/plain": [
       "'http://5e388a25d6da.ngrok.io'"
      ]
     },
     "execution_count": 11,
     "metadata": {
      "tags": []
     },
     "output_type": "execute_result"
    }
   ],
   "source": [
    "# Setup a tunnel to the streamlit port 8501\n",
    "url = ngrok.connect(port = 8501)\n",
    "url"
   ]
  },
  {
   "cell_type": "code",
   "execution_count": 12,
   "metadata": {
    "colab": {
     "base_uri": "https://localhost:8080/"
    },
    "id": "sP6UDb-z1xEQ",
    "outputId": "8838224f-143f-4a6f-f301-70600994a0c6"
   },
   "outputs": [
    {
     "name": "stdout",
     "output_type": "stream",
     "text": [
      "184\n"
     ]
    }
   ],
   "source": [
    "!pgrep streamlit"
   ]
  },
  {
   "cell_type": "code",
   "execution_count": null,
   "metadata": {
    "id": "KG9pGo8R1zsl"
   },
   "outputs": [],
   "source": [
    "pip install pipreqs"
   ]
  },
  {
   "cell_type": "code",
   "execution_count": null,
   "metadata": {
    "id": "x079_Ef416a0"
   },
   "outputs": [],
   "source": [
    "import pipreqs"
   ]
  }
 ],
 "metadata": {
  "colab": {
   "name": "genre predict APP_building.ipynb",
   "provenance": [],
   "toc_visible": true
  },
  "kernelspec": {
   "display_name": "Python 3",
   "language": "python",
   "name": "python3"
  },
  "language_info": {
   "codemirror_mode": {
    "name": "ipython",
    "version": 3
   },
   "file_extension": ".py",
   "mimetype": "text/x-python",
   "name": "python",
   "nbconvert_exporter": "python",
   "pygments_lexer": "ipython3",
   "version": "3.7.4"
  }
 },
 "nbformat": 4,
 "nbformat_minor": 1
}
